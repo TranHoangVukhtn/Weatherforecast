{
 "cells": [
  {
   "cell_type": "markdown",
   "metadata": {},
   "source": [
    "# Part I - Data Exploration Analysis"
   ]
  },
  {
   "cell_type": "code",
   "execution_count": 1,
   "metadata": {},
   "outputs": [],
   "source": [
    "# import all packages and set plots to be embedded inline\n",
    "import numpy as np\n",
    "import pandas as pd\n",
    "import matplotlib.pyplot as plt\n",
    "import seaborn as sns\n",
    "from tabulate import tabulate"
   ]
  },
  {
   "cell_type": "code",
   "execution_count": 2,
   "metadata": {
    "jupyter": {
     "source_hidden": true
    }
   },
   "outputs": [],
   "source": [
    "# ================== functions =========================================\n",
    "# 1. Data types\n",
    "def data_types_list(data):\n",
    "    # Get data types of all colums\n",
    "    data_types = data.dtypes\n",
    "\n",
    "    # \n",
    "    datetime_columns = []\n",
    "    categorical_columns = []\n",
    "    numerical_columns = []\n",
    "    # Separate columns into categorical and numeric\n",
    "    for col in data.columns:\n",
    "        if data[col].dtype == 'datetime64[ns]':\n",
    "            datetime_columns.append(col)\n",
    "        elif data[col].dtype == 'object':\n",
    "            categorical_columns.append(col)\n",
    "        else:\n",
    "            numerical_columns.append(col)\n",
    "            \n",
    "    return datetime_columns,categorical_columns, numerical_columns\n",
    "    \n",
    "    #date_time_columns = data_types[data.dtypes == 'datetime64[ns]'].index.tolist()\n",
    "    #categorical_columns = data_types[data_types == 'object'].index.tolist()\n",
    "    #numerical_columns = data_types[(data_types != 'object') or (data_types != 'datetime64[ns]')].index.tolist()\n",
    "    \n",
    "\n",
    "# 2. Are there null values in dataset\n",
    "def data_null_check(data):\n",
    "    \n",
    "    if data.isnull().any().any():\n",
    "        # calculate the total number of rows in the data\n",
    "        total_rows = len(data)\n",
    "        # create an empty list called 'columns_with_null' to store information about columns with nill values\n",
    "        columns_with_null = []\n",
    "        # Loop through each column to count the number of null value and calculate the percentage of null values relative to the total number of rows.\n",
    "        for column in data.columns:\n",
    "            null_count = data[column].isnull().sum()\n",
    "            if null_count >0:\n",
    "                columns_with_null.append(column, null_count, null_count/total_rows*100)\n",
    "        # convert 'columns_with_null' to a new DataFrame called 'columns_with_null_df' for easier viewing\n",
    "        columns_with_null_df = pd.DataFrame(columns_with_null, columns = ['Column N','Null Count','Null Percentage'])\n",
    "    \n",
    "        # Return result\n",
    "        return columns_with_null_df\n",
    "        print(columns_with_null_df)\n",
    "    \n",
    "    else:\n",
    "        print('There are no null values in the dataset')\n",
    "# . Results\n",
    "def show_results(data):\n",
    "    # 1. Data_types => return 2 lists of categorical and numeric features in the dataset\n",
    "    datetime_columns, categorical_columns, numerical_columns = data_types_list(data)\n",
    "    print('1. Overview the structure of dataset')\n",
    "    print(' - Total columns in the dataset: {} , in which:'.format(data.shape[1]))\n",
    "    print(' - Datetime Columns: {} are list in a variable name - datetime_columns '.format(len(datetime_columns)))\n",
    "    print(' - Categorical Columns: {} are list in a variable name - categorical_columns '.format(len(categorical_columns)))\n",
    "    print(' - Numeric Columns    : {} are list in a variable name - numerical_columns '.format(len(numerical_columns)))\n",
    "    print('----------------------------------------')\n",
    "    print('2. Check null values')\n",
    "    columns_with_null_df = data_null_check(data)\n",
    "    print(columns_with_null_df)\n"
   ]
  },
  {
   "cell_type": "code",
   "execution_count": 3,
   "metadata": {},
   "outputs": [
    {
     "name": "stdout",
     "output_type": "stream",
     "text": [
      "<class 'pandas.core.frame.DataFrame'>\n",
      "RangeIndex: 335 entries, 0 to 334\n",
      "Data columns (total 16 columns):\n",
      " #   Column          Non-Null Count  Dtype  \n",
      "---  ------          --------------  -----  \n",
      " 0   Unnamed: 0      335 non-null    object \n",
      " 1   maxtemp_c       335 non-null    float64\n",
      " 2   maxtemp_f       335 non-null    float64\n",
      " 3   mintemp_c       335 non-null    float64\n",
      " 4   mintemp_f       335 non-null    float64\n",
      " 5   avgtemp_c       335 non-null    float64\n",
      " 6   avgtemp_f       335 non-null    float64\n",
      " 7   maxwind_mph     335 non-null    float64\n",
      " 8   maxwind_kph     335 non-null    float64\n",
      " 9   totalprecip_mm  335 non-null    float64\n",
      " 10  totalprecip_in  335 non-null    float64\n",
      " 11  avgvis_km       335 non-null    float64\n",
      " 12  avgvis_miles    335 non-null    int64  \n",
      " 13  avghumidity     335 non-null    int64  \n",
      " 14  condition       335 non-null    object \n",
      " 15  uv              335 non-null    int64  \n",
      "dtypes: float64(11), int64(3), object(2)\n",
      "memory usage: 42.0+ KB\n"
     ]
    }
   ],
   "source": [
    "# Load data set\n",
    "dataset = 'df_day.csv'\n",
    "day_weather = pd.read_csv(dataset)\n",
    "day_weather.info()"
   ]
  },
  {
   "cell_type": "code",
   "execution_count": 4,
   "metadata": {},
   "outputs": [
    {
     "name": "stdout",
     "output_type": "stream",
     "text": [
      "<class 'pandas.core.frame.DataFrame'>\n",
      "RangeIndex: 335 entries, 0 to 334\n",
      "Data columns (total 16 columns):\n",
      " #   Column          Non-Null Count  Dtype         \n",
      "---  ------          --------------  -----         \n",
      " 0   date            335 non-null    datetime64[ns]\n",
      " 1   maxtemp_c       335 non-null    float64       \n",
      " 2   maxtemp_f       335 non-null    float64       \n",
      " 3   mintemp_c       335 non-null    float64       \n",
      " 4   mintemp_f       335 non-null    float64       \n",
      " 5   avgtemp_c       335 non-null    float64       \n",
      " 6   avgtemp_f       335 non-null    float64       \n",
      " 7   maxwind_mph     335 non-null    float64       \n",
      " 8   maxwind_kph     335 non-null    float64       \n",
      " 9   totalprecip_mm  335 non-null    float64       \n",
      " 10  totalprecip_in  335 non-null    float64       \n",
      " 11  avgvis_km       335 non-null    float64       \n",
      " 12  avgvis_miles    335 non-null    int64         \n",
      " 13  avghumidity     335 non-null    int64         \n",
      " 14  condition       335 non-null    object        \n",
      " 15  uv              335 non-null    int64         \n",
      "dtypes: datetime64[ns](1), float64(11), int64(3), object(1)\n",
      "memory usage: 42.0+ KB\n"
     ]
    }
   ],
   "source": [
    "# Rename the 'Unnamed: 0' column to 'date'\n",
    "day_weather.rename(columns={'Unnamed: 0': 'date'}, inplace=True)\n",
    "day_weather['date'] = pd.to_datetime(day_weather['date'])\n",
    "day_weather.info()"
   ]
  },
  {
   "cell_type": "code",
   "execution_count": 5,
   "metadata": {},
   "outputs": [
    {
     "name": "stdout",
     "output_type": "stream",
     "text": [
      "-----------------------------\n",
      "The structure of the dataset:\n",
      "-----------------------------\n",
      "The number of observations:  335\n",
      "the number of features:  16\n",
      "\n",
      "Summary Statistics:\n",
      "         maxtemp_c   maxtemp_f   mintemp_c   mintemp_f   avgtemp_c   avgtemp_f  \\\n",
      "count  335.000000  335.000000  335.000000  335.000000  335.000000  335.000000   \n",
      "mean    32.901194   91.205373   24.399701   75.917910   27.817015   82.071642   \n",
      "std      2.868495    5.159443    1.761506    3.168025    1.775510    3.193229   \n",
      "min     24.200000   75.600000   19.600000   67.300000   23.000000   73.500000   \n",
      "25%     31.200000   88.150000   23.300000   73.900000   26.600000   79.900000   \n",
      "50%     32.600000   90.700000   24.300000   75.700000   27.900000   82.100000   \n",
      "75%     34.500000   94.150000   25.700000   78.300000   29.050000   84.250000   \n",
      "max     40.100000  104.200000   28.800000   83.800000   32.300000   90.100000   \n",
      "\n",
      "       maxwind_mph  maxwind_kph  totalprecip_mm  totalprecip_in   avgvis_km  \\\n",
      "count   335.000000   335.000000      335.000000      335.000000  335.000000   \n",
      "mean      9.921194    15.963881        5.718836        0.225254    9.726269   \n",
      "std       3.144999     5.061299        8.814541        0.346976    0.519353   \n",
      "min       3.600000     5.800000        0.000000        0.000000    7.000000   \n",
      "25%       7.200000    11.500000        0.000000        0.000000    9.700000   \n",
      "50%      10.100000    16.200000        2.000000        0.080000   10.000000   \n",
      "75%      12.300000    19.800000        8.000000        0.310000   10.000000   \n",
      "max      18.600000    29.900000       59.050000        2.320000   10.000000   \n",
      "\n",
      "       avgvis_miles  avghumidity          uv  \n",
      "count    335.000000   335.000000  335.000000  \n",
      "mean       5.749254    70.414925    7.283582  \n",
      "std        0.504285    10.457689    0.811703  \n",
      "min        4.000000    47.000000    5.000000  \n",
      "25%        6.000000    62.000000    7.000000  \n",
      "50%        6.000000    70.000000    7.000000  \n",
      "75%        6.000000    79.000000    8.000000  \n",
      "max        6.000000    96.000000   10.000000  \n"
     ]
    }
   ],
   "source": [
    "# describe the dataset (len, shape)\n",
    "\n",
    "shape = day_weather.shape\n",
    "print('-----------------------------')\n",
    "print('The structure of the dataset:')\n",
    "print('-----------------------------')\n",
    "print('The number of observations: ', shape[0])\n",
    "print('the number of features: ', shape[1])\n",
    "print('')\n",
    "# Execute the step: summary statistics\n",
    "sum_stats = day_weather.describe()\n",
    "print('Summary Statistics:\\n',sum_stats)"
   ]
  },
  {
   "cell_type": "code",
   "execution_count": 6,
   "metadata": {},
   "outputs": [
    {
     "name": "stdout",
     "output_type": "stream",
     "text": [
      "1. Overview the structure of dataset\n",
      " - Total columns in the dataset: 16 , in which:\n",
      " - Datetime Columns: 1 are list in a variable name - datetime_columns \n",
      " - Categorical Columns: 1 are list in a variable name - categorical_columns \n",
      " - Numeric Columns    : 14 are list in a variable name - numerical_columns \n",
      "----------------------------------------\n",
      "2. Check null values\n",
      "There are no null values in the dataset\n",
      "None\n"
     ]
    }
   ],
   "source": [
    "# ================= results ===============================================\n",
    "show_results(day_weather)"
   ]
  },
  {
   "cell_type": "markdown",
   "metadata": {},
   "source": [
    "# Forecast weather condition"
   ]
  },
  {
   "cell_type": "markdown",
   "metadata": {},
   "source": [
    "## Create a baseline model"
   ]
  },
  {
   "cell_type": "code",
   "execution_count": 218,
   "metadata": {},
   "outputs": [],
   "source": [
    "# Step 1: Import necessary libraries\n",
    "import pandas as pd\n",
    "from sklearn.tree import DecisionTreeClassifier\n",
    "from sklearn.model_selection import train_test_split\n",
    "from sklearn.metrics import accuracy_score"
   ]
  },
  {
   "cell_type": "code",
   "execution_count": 219,
   "metadata": {},
   "outputs": [
    {
     "data": {
      "text/html": [
       "<div>\n",
       "<style scoped>\n",
       "    .dataframe tbody tr th:only-of-type {\n",
       "        vertical-align: middle;\n",
       "    }\n",
       "\n",
       "    .dataframe tbody tr th {\n",
       "        vertical-align: top;\n",
       "    }\n",
       "\n",
       "    .dataframe thead th {\n",
       "        text-align: right;\n",
       "    }\n",
       "</style>\n",
       "<table border=\"1\" class=\"dataframe\">\n",
       "  <thead>\n",
       "    <tr style=\"text-align: right;\">\n",
       "      <th></th>\n",
       "      <th>date</th>\n",
       "      <th>maxtemp_c</th>\n",
       "      <th>maxtemp_f</th>\n",
       "      <th>mintemp_c</th>\n",
       "      <th>mintemp_f</th>\n",
       "      <th>avgtemp_c</th>\n",
       "      <th>avgtemp_f</th>\n",
       "      <th>maxwind_mph</th>\n",
       "      <th>maxwind_kph</th>\n",
       "      <th>totalprecip_mm</th>\n",
       "      <th>totalprecip_in</th>\n",
       "      <th>avgvis_km</th>\n",
       "      <th>avgvis_miles</th>\n",
       "      <th>avghumidity</th>\n",
       "      <th>condition</th>\n",
       "      <th>uv</th>\n",
       "    </tr>\n",
       "  </thead>\n",
       "  <tbody>\n",
       "    <tr>\n",
       "      <th>0</th>\n",
       "      <td>2022-10-01</td>\n",
       "      <td>28.9</td>\n",
       "      <td>83.9</td>\n",
       "      <td>24.2</td>\n",
       "      <td>75.6</td>\n",
       "      <td>25.6</td>\n",
       "      <td>78.1</td>\n",
       "      <td>5.8</td>\n",
       "      <td>9.4</td>\n",
       "      <td>8.4</td>\n",
       "      <td>0.33</td>\n",
       "      <td>8.5</td>\n",
       "      <td>5</td>\n",
       "      <td>90</td>\n",
       "      <td>Moderate or heavy rain shower</td>\n",
       "      <td>6</td>\n",
       "    </tr>\n",
       "    <tr>\n",
       "      <th>1</th>\n",
       "      <td>2022-10-02</td>\n",
       "      <td>27.3</td>\n",
       "      <td>81.1</td>\n",
       "      <td>23.9</td>\n",
       "      <td>75.0</td>\n",
       "      <td>25.0</td>\n",
       "      <td>77.1</td>\n",
       "      <td>4.9</td>\n",
       "      <td>7.9</td>\n",
       "      <td>6.7</td>\n",
       "      <td>0.26</td>\n",
       "      <td>7.9</td>\n",
       "      <td>4</td>\n",
       "      <td>92</td>\n",
       "      <td>Moderate rain at times</td>\n",
       "      <td>6</td>\n",
       "    </tr>\n",
       "    <tr>\n",
       "      <th>2</th>\n",
       "      <td>2022-10-03</td>\n",
       "      <td>31.5</td>\n",
       "      <td>88.7</td>\n",
       "      <td>23.8</td>\n",
       "      <td>74.8</td>\n",
       "      <td>26.9</td>\n",
       "      <td>80.4</td>\n",
       "      <td>7.2</td>\n",
       "      <td>11.5</td>\n",
       "      <td>9.0</td>\n",
       "      <td>0.35</td>\n",
       "      <td>9.9</td>\n",
       "      <td>6</td>\n",
       "      <td>82</td>\n",
       "      <td>Moderate or heavy rain shower</td>\n",
       "      <td>7</td>\n",
       "    </tr>\n",
       "    <tr>\n",
       "      <th>3</th>\n",
       "      <td>2022-10-04</td>\n",
       "      <td>31.6</td>\n",
       "      <td>88.9</td>\n",
       "      <td>24.2</td>\n",
       "      <td>75.6</td>\n",
       "      <td>26.9</td>\n",
       "      <td>80.4</td>\n",
       "      <td>6.7</td>\n",
       "      <td>10.8</td>\n",
       "      <td>4.6</td>\n",
       "      <td>0.18</td>\n",
       "      <td>9.8</td>\n",
       "      <td>6</td>\n",
       "      <td>83</td>\n",
       "      <td>Heavy rain at times</td>\n",
       "      <td>7</td>\n",
       "    </tr>\n",
       "    <tr>\n",
       "      <th>4</th>\n",
       "      <td>2022-10-05</td>\n",
       "      <td>31.3</td>\n",
       "      <td>88.3</td>\n",
       "      <td>24.0</td>\n",
       "      <td>75.2</td>\n",
       "      <td>27.1</td>\n",
       "      <td>80.7</td>\n",
       "      <td>8.1</td>\n",
       "      <td>13.0</td>\n",
       "      <td>12.9</td>\n",
       "      <td>0.51</td>\n",
       "      <td>10.0</td>\n",
       "      <td>6</td>\n",
       "      <td>81</td>\n",
       "      <td>Moderate or heavy rain shower</td>\n",
       "      <td>7</td>\n",
       "    </tr>\n",
       "    <tr>\n",
       "      <th>...</th>\n",
       "      <td>...</td>\n",
       "      <td>...</td>\n",
       "      <td>...</td>\n",
       "      <td>...</td>\n",
       "      <td>...</td>\n",
       "      <td>...</td>\n",
       "      <td>...</td>\n",
       "      <td>...</td>\n",
       "      <td>...</td>\n",
       "      <td>...</td>\n",
       "      <td>...</td>\n",
       "      <td>...</td>\n",
       "      <td>...</td>\n",
       "      <td>...</td>\n",
       "      <td>...</td>\n",
       "      <td>...</td>\n",
       "    </tr>\n",
       "    <tr>\n",
       "      <th>330</th>\n",
       "      <td>2023-08-27</td>\n",
       "      <td>33.2</td>\n",
       "      <td>91.8</td>\n",
       "      <td>26.1</td>\n",
       "      <td>79.0</td>\n",
       "      <td>28.8</td>\n",
       "      <td>83.8</td>\n",
       "      <td>10.5</td>\n",
       "      <td>16.9</td>\n",
       "      <td>8.6</td>\n",
       "      <td>0.34</td>\n",
       "      <td>9.8</td>\n",
       "      <td>6</td>\n",
       "      <td>74</td>\n",
       "      <td>Light rain shower</td>\n",
       "      <td>7</td>\n",
       "    </tr>\n",
       "    <tr>\n",
       "      <th>331</th>\n",
       "      <td>2023-08-28</td>\n",
       "      <td>34.6</td>\n",
       "      <td>94.3</td>\n",
       "      <td>25.7</td>\n",
       "      <td>78.3</td>\n",
       "      <td>28.7</td>\n",
       "      <td>83.6</td>\n",
       "      <td>13.6</td>\n",
       "      <td>22.0</td>\n",
       "      <td>4.7</td>\n",
       "      <td>0.19</td>\n",
       "      <td>9.8</td>\n",
       "      <td>6</td>\n",
       "      <td>74</td>\n",
       "      <td>Light rain shower</td>\n",
       "      <td>7</td>\n",
       "    </tr>\n",
       "    <tr>\n",
       "      <th>332</th>\n",
       "      <td>2023-08-29</td>\n",
       "      <td>33.8</td>\n",
       "      <td>92.8</td>\n",
       "      <td>25.6</td>\n",
       "      <td>78.1</td>\n",
       "      <td>28.7</td>\n",
       "      <td>83.7</td>\n",
       "      <td>12.5</td>\n",
       "      <td>20.2</td>\n",
       "      <td>14.4</td>\n",
       "      <td>0.57</td>\n",
       "      <td>9.7</td>\n",
       "      <td>6</td>\n",
       "      <td>72</td>\n",
       "      <td>Moderate or heavy rain shower</td>\n",
       "      <td>7</td>\n",
       "    </tr>\n",
       "    <tr>\n",
       "      <th>333</th>\n",
       "      <td>2023-08-30</td>\n",
       "      <td>32.7</td>\n",
       "      <td>90.9</td>\n",
       "      <td>25.0</td>\n",
       "      <td>77.0</td>\n",
       "      <td>28.5</td>\n",
       "      <td>83.2</td>\n",
       "      <td>12.1</td>\n",
       "      <td>19.4</td>\n",
       "      <td>3.1</td>\n",
       "      <td>0.12</td>\n",
       "      <td>9.9</td>\n",
       "      <td>6</td>\n",
       "      <td>73</td>\n",
       "      <td>Light rain shower</td>\n",
       "      <td>7</td>\n",
       "    </tr>\n",
       "    <tr>\n",
       "      <th>334</th>\n",
       "      <td>2023-08-31</td>\n",
       "      <td>31.0</td>\n",
       "      <td>87.8</td>\n",
       "      <td>25.1</td>\n",
       "      <td>77.2</td>\n",
       "      <td>27.1</td>\n",
       "      <td>80.8</td>\n",
       "      <td>11.2</td>\n",
       "      <td>18.0</td>\n",
       "      <td>42.2</td>\n",
       "      <td>1.66</td>\n",
       "      <td>9.1</td>\n",
       "      <td>5</td>\n",
       "      <td>81</td>\n",
       "      <td>Moderate or heavy rain shower</td>\n",
       "      <td>7</td>\n",
       "    </tr>\n",
       "  </tbody>\n",
       "</table>\n",
       "<p>335 rows × 16 columns</p>\n",
       "</div>"
      ],
      "text/plain": [
       "          date  maxtemp_c  maxtemp_f  mintemp_c  mintemp_f  avgtemp_c  \\\n",
       "0   2022-10-01       28.9       83.9       24.2       75.6       25.6   \n",
       "1   2022-10-02       27.3       81.1       23.9       75.0       25.0   \n",
       "2   2022-10-03       31.5       88.7       23.8       74.8       26.9   \n",
       "3   2022-10-04       31.6       88.9       24.2       75.6       26.9   \n",
       "4   2022-10-05       31.3       88.3       24.0       75.2       27.1   \n",
       "..         ...        ...        ...        ...        ...        ...   \n",
       "330 2023-08-27       33.2       91.8       26.1       79.0       28.8   \n",
       "331 2023-08-28       34.6       94.3       25.7       78.3       28.7   \n",
       "332 2023-08-29       33.8       92.8       25.6       78.1       28.7   \n",
       "333 2023-08-30       32.7       90.9       25.0       77.0       28.5   \n",
       "334 2023-08-31       31.0       87.8       25.1       77.2       27.1   \n",
       "\n",
       "     avgtemp_f  maxwind_mph  maxwind_kph  totalprecip_mm  totalprecip_in  \\\n",
       "0         78.1          5.8          9.4             8.4            0.33   \n",
       "1         77.1          4.9          7.9             6.7            0.26   \n",
       "2         80.4          7.2         11.5             9.0            0.35   \n",
       "3         80.4          6.7         10.8             4.6            0.18   \n",
       "4         80.7          8.1         13.0            12.9            0.51   \n",
       "..         ...          ...          ...             ...             ...   \n",
       "330       83.8         10.5         16.9             8.6            0.34   \n",
       "331       83.6         13.6         22.0             4.7            0.19   \n",
       "332       83.7         12.5         20.2            14.4            0.57   \n",
       "333       83.2         12.1         19.4             3.1            0.12   \n",
       "334       80.8         11.2         18.0            42.2            1.66   \n",
       "\n",
       "     avgvis_km  avgvis_miles  avghumidity                      condition  uv  \n",
       "0          8.5             5           90  Moderate or heavy rain shower   6  \n",
       "1          7.9             4           92         Moderate rain at times   6  \n",
       "2          9.9             6           82  Moderate or heavy rain shower   7  \n",
       "3          9.8             6           83            Heavy rain at times   7  \n",
       "4         10.0             6           81  Moderate or heavy rain shower   7  \n",
       "..         ...           ...          ...                            ...  ..  \n",
       "330        9.8             6           74              Light rain shower   7  \n",
       "331        9.8             6           74              Light rain shower   7  \n",
       "332        9.7             6           72  Moderate or heavy rain shower   7  \n",
       "333        9.9             6           73              Light rain shower   7  \n",
       "334        9.1             5           81  Moderate or heavy rain shower   7  \n",
       "\n",
       "[335 rows x 16 columns]"
      ]
     },
     "execution_count": 219,
     "metadata": {},
     "output_type": "execute_result"
    }
   ],
   "source": [
    "day_weather"
   ]
  },
  {
   "cell_type": "code",
   "execution_count": 253,
   "metadata": {},
   "outputs": [
    {
     "name": "stdout",
     "output_type": "stream",
     "text": [
      "['Moderate or heavy rain shower' 'Moderate rain at times'\n",
      " 'Heavy rain at times' 'Partly cloudy' 'Patchy rain possible' 'Overcast'\n",
      " 'Cloudy' 'Sunny' 'Light rain shower']\n"
     ]
    }
   ],
   "source": [
    "distinct_conditions = day_weather['condition'].unique()\n",
    "print(distinct_conditions)"
   ]
  },
  {
   "cell_type": "code",
   "execution_count": 244,
   "metadata": {},
   "outputs": [],
   "source": [
    "# Step 2: Prepare the data\n",
    "# Select features (e.g., temperature, humidity, wind speed) and the target variable (weather condition)\n",
    "#features = day_weather[['maxtemp_c', 'avghumidity', 'maxwind_kph']]\n",
    "features = day_weather.drop(['condition','date'], axis=1)\n",
    "target = day_weather['condition']"
   ]
  },
  {
   "cell_type": "code",
   "execution_count": 245,
   "metadata": {},
   "outputs": [],
   "source": [
    "# Step 3: Split the data into training and Testing Sets\n",
    "X_train, X_test, y_train, y_test = train_test_split(features, target, test_size=0.2, random_state=42)"
   ]
  },
  {
   "cell_type": "code",
   "execution_count": 246,
   "metadata": {},
   "outputs": [
    {
     "data": {
      "text/plain": [
       "DecisionTreeClassifier()"
      ]
     },
     "execution_count": 246,
     "metadata": {},
     "output_type": "execute_result"
    }
   ],
   "source": [
    "# Step 4: Build the Decision Tree Model\n",
    "# Create a Decision Tree model\n",
    "model = DecisionTreeClassifier()\n",
    "\n",
    "# Train the model on the training data\n",
    "model.fit(X_train, y_train)"
   ]
  },
  {
   "cell_type": "code",
   "execution_count": 247,
   "metadata": {},
   "outputs": [],
   "source": [
    "# Step 5: Make Preditions\n",
    "y_pred = model.predict(X_test)"
   ]
  },
  {
   "cell_type": "code",
   "execution_count": 248,
   "metadata": {},
   "outputs": [
    {
     "name": "stdout",
     "output_type": "stream",
     "text": [
      "Accuracy: 0.6567164179104478\n"
     ]
    }
   ],
   "source": [
    "# Step 6: Evaluate the Model\n",
    "accuracy = accuracy_score(y_test, y_pred)\n",
    "print(f'Accuracy: {accuracy}')"
   ]
  },
  {
   "cell_type": "code",
   "execution_count": 249,
   "metadata": {},
   "outputs": [
    {
     "data": {
      "text/html": [
       "<div>\n",
       "<style scoped>\n",
       "    .dataframe tbody tr th:only-of-type {\n",
       "        vertical-align: middle;\n",
       "    }\n",
       "\n",
       "    .dataframe tbody tr th {\n",
       "        vertical-align: top;\n",
       "    }\n",
       "\n",
       "    .dataframe thead th {\n",
       "        text-align: right;\n",
       "    }\n",
       "</style>\n",
       "<table border=\"1\" class=\"dataframe\">\n",
       "  <thead>\n",
       "    <tr style=\"text-align: right;\">\n",
       "      <th></th>\n",
       "      <th>date</th>\n",
       "      <th>maxtemp_c</th>\n",
       "      <th>maxtemp_f</th>\n",
       "      <th>mintemp_c</th>\n",
       "      <th>mintemp_f</th>\n",
       "      <th>avgtemp_c</th>\n",
       "      <th>avgtemp_f</th>\n",
       "      <th>maxwind_mph</th>\n",
       "      <th>maxwind_kph</th>\n",
       "      <th>totalprecip_mm</th>\n",
       "      <th>totalprecip_in</th>\n",
       "      <th>avgvis_km</th>\n",
       "      <th>avgvis_miles</th>\n",
       "      <th>avghumidity</th>\n",
       "      <th>condition</th>\n",
       "      <th>uv</th>\n",
       "      <th>y_pred</th>\n",
       "    </tr>\n",
       "  </thead>\n",
       "  <tbody>\n",
       "    <tr>\n",
       "      <th>0</th>\n",
       "      <td>2022-10-01</td>\n",
       "      <td>28.9</td>\n",
       "      <td>83.9</td>\n",
       "      <td>24.2</td>\n",
       "      <td>75.6</td>\n",
       "      <td>25.6</td>\n",
       "      <td>78.1</td>\n",
       "      <td>5.8</td>\n",
       "      <td>9.4</td>\n",
       "      <td>8.4</td>\n",
       "      <td>0.33</td>\n",
       "      <td>8.5</td>\n",
       "      <td>5</td>\n",
       "      <td>90</td>\n",
       "      <td>Moderate or heavy rain shower</td>\n",
       "      <td>6</td>\n",
       "      <td>Moderate or heavy rain shower</td>\n",
       "    </tr>\n",
       "    <tr>\n",
       "      <th>1</th>\n",
       "      <td>2022-10-02</td>\n",
       "      <td>27.3</td>\n",
       "      <td>81.1</td>\n",
       "      <td>23.9</td>\n",
       "      <td>75.0</td>\n",
       "      <td>25.0</td>\n",
       "      <td>77.1</td>\n",
       "      <td>4.9</td>\n",
       "      <td>7.9</td>\n",
       "      <td>6.7</td>\n",
       "      <td>0.26</td>\n",
       "      <td>7.9</td>\n",
       "      <td>4</td>\n",
       "      <td>92</td>\n",
       "      <td>Moderate rain at times</td>\n",
       "      <td>6</td>\n",
       "      <td>Partly cloudy</td>\n",
       "    </tr>\n",
       "    <tr>\n",
       "      <th>2</th>\n",
       "      <td>2022-10-03</td>\n",
       "      <td>31.5</td>\n",
       "      <td>88.7</td>\n",
       "      <td>23.8</td>\n",
       "      <td>74.8</td>\n",
       "      <td>26.9</td>\n",
       "      <td>80.4</td>\n",
       "      <td>7.2</td>\n",
       "      <td>11.5</td>\n",
       "      <td>9.0</td>\n",
       "      <td>0.35</td>\n",
       "      <td>9.9</td>\n",
       "      <td>6</td>\n",
       "      <td>82</td>\n",
       "      <td>Moderate or heavy rain shower</td>\n",
       "      <td>7</td>\n",
       "      <td>Cloudy</td>\n",
       "    </tr>\n",
       "    <tr>\n",
       "      <th>3</th>\n",
       "      <td>2022-10-04</td>\n",
       "      <td>31.6</td>\n",
       "      <td>88.9</td>\n",
       "      <td>24.2</td>\n",
       "      <td>75.6</td>\n",
       "      <td>26.9</td>\n",
       "      <td>80.4</td>\n",
       "      <td>6.7</td>\n",
       "      <td>10.8</td>\n",
       "      <td>4.6</td>\n",
       "      <td>0.18</td>\n",
       "      <td>9.8</td>\n",
       "      <td>6</td>\n",
       "      <td>83</td>\n",
       "      <td>Heavy rain at times</td>\n",
       "      <td>7</td>\n",
       "      <td>Moderate or heavy rain shower</td>\n",
       "    </tr>\n",
       "    <tr>\n",
       "      <th>4</th>\n",
       "      <td>2022-10-05</td>\n",
       "      <td>31.3</td>\n",
       "      <td>88.3</td>\n",
       "      <td>24.0</td>\n",
       "      <td>75.2</td>\n",
       "      <td>27.1</td>\n",
       "      <td>80.7</td>\n",
       "      <td>8.1</td>\n",
       "      <td>13.0</td>\n",
       "      <td>12.9</td>\n",
       "      <td>0.51</td>\n",
       "      <td>10.0</td>\n",
       "      <td>6</td>\n",
       "      <td>81</td>\n",
       "      <td>Moderate or heavy rain shower</td>\n",
       "      <td>7</td>\n",
       "      <td>Moderate or heavy rain shower</td>\n",
       "    </tr>\n",
       "  </tbody>\n",
       "</table>\n",
       "</div>"
      ],
      "text/plain": [
       "        date  maxtemp_c  maxtemp_f  mintemp_c  mintemp_f  avgtemp_c  \\\n",
       "0 2022-10-01       28.9       83.9       24.2       75.6       25.6   \n",
       "1 2022-10-02       27.3       81.1       23.9       75.0       25.0   \n",
       "2 2022-10-03       31.5       88.7       23.8       74.8       26.9   \n",
       "3 2022-10-04       31.6       88.9       24.2       75.6       26.9   \n",
       "4 2022-10-05       31.3       88.3       24.0       75.2       27.1   \n",
       "\n",
       "   avgtemp_f  maxwind_mph  maxwind_kph  totalprecip_mm  totalprecip_in  \\\n",
       "0       78.1          5.8          9.4             8.4            0.33   \n",
       "1       77.1          4.9          7.9             6.7            0.26   \n",
       "2       80.4          7.2         11.5             9.0            0.35   \n",
       "3       80.4          6.7         10.8             4.6            0.18   \n",
       "4       80.7          8.1         13.0            12.9            0.51   \n",
       "\n",
       "   avgvis_km  avgvis_miles  avghumidity                      condition  uv  \\\n",
       "0        8.5             5           90  Moderate or heavy rain shower   6   \n",
       "1        7.9             4           92         Moderate rain at times   6   \n",
       "2        9.9             6           82  Moderate or heavy rain shower   7   \n",
       "3        9.8             6           83            Heavy rain at times   7   \n",
       "4       10.0             6           81  Moderate or heavy rain shower   7   \n",
       "\n",
       "                          y_pred  \n",
       "0  Moderate or heavy rain shower  \n",
       "1                  Partly cloudy  \n",
       "2                         Cloudy  \n",
       "3  Moderate or heavy rain shower  \n",
       "4  Moderate or heavy rain shower  "
      ]
     },
     "execution_count": 249,
     "metadata": {},
     "output_type": "execute_result"
    }
   ],
   "source": [
    "day_weather_add_pred = pd.DataFrame(pd.concat([day_weather,pd.DataFrame({'y_pred':y_pred})],axis=1))\n",
    "#print(day_weather_add_pred.head(5))\n",
    "#print(day_weather_add_pred.tail(5))\n",
    "day_weather_add_pred.head(5)"
   ]
  },
  {
   "cell_type": "markdown",
   "metadata": {},
   "source": [
    "## Using XGBoost model"
   ]
  },
  {
   "cell_type": "code",
   "execution_count": null,
   "metadata": {},
   "outputs": [],
   "source": [
    "# Step 1: Import neccesary librabries\n",
    "from sklearn.model_selection import train_test_split\n",
    "from sklearn.preprocessing import LabelEncoder\n",
    "import xgboost as xgb\n",
    "import lightgbm as lgb\n",
    "from sklearn.metrics import accuracy_score\n",
    "\n",
    "#  Step 2: Encode the 'condition' column with numerical labels\n",
    "label_encoder = LabelEncoder()\n",
    "day_weather['condition_encoded'] = label_encoder.fit_transform(day_weather['condition'])\n",
    "\n",
    "# Step 3: Define your features and target\n",
    "X = day_weather.drop(['condition','condition_encoded','date'], axis=1)\n",
    "y = day_weather['condition_encoded']\n",
    "\n",
    "# Step 4: Split the data into training and testing sets\n",
    "X_train_XGB, X_test_XGB, y_train_XGB, y_test_XGB = train_test_split(X, y, test_size=0.2, random_state=42)\n",
    "\n",
    "# Train an XGBoost model\n",
    "xgb_model = xgb.XGBClassifier()\n",
    "xgb_model.fit(X_train_XGB, y_train_XGB)\n",
    "\n",
    "# Make predictions\n",
    "xgb_predictions = xgb_model.predict(X_test_XGB)\n",
    "\n",
    "# Decode the predictions back to original labels\n",
    "xgb_predictions_decoded = label_encoder.inverse_transform(xgb_predictions)\n",
    "\n",
    "# Calculate accuracy scores\n",
    "xgb_accuracy = accuracy_score(y_test_XGB, xgb_predictions)\n",
    "print(f'XGBoost Accuracy: {xgb_accuracy}')"
   ]
  },
  {
   "cell_type": "code",
   "execution_count": 254,
   "metadata": {},
   "outputs": [],
   "source": [
    "# Step 1: Import neccesary librabries\n",
    "from sklearn.model_selection import train_test_split\n",
    "from sklearn.preprocessing import LabelEncoder\n",
    "import xgboost as xgb\n",
    "import lightgbm as lgb\n",
    "from sklearn.metrics import accuracy_score"
   ]
  },
  {
   "cell_type": "code",
   "execution_count": 276,
   "metadata": {},
   "outputs": [],
   "source": [
    "# Step 3: Define your features and target\n",
    "X = day_weather.drop(['condition','condition_encoded','date'], axis=1)\n",
    "y = day_weather['condition_encoded']"
   ]
  },
  {
   "cell_type": "code",
   "execution_count": 259,
   "metadata": {},
   "outputs": [],
   "source": [
    "# Step 4: Split the data into training and testing sets\n",
    "X_train_XGB, X_test_XGB, y_train_XGB, y_test_XGB = train_test_split(X, y, test_size=0.2, random_state=42)"
   ]
  },
  {
   "cell_type": "code",
   "execution_count": 260,
   "metadata": {},
   "outputs": [
    {
     "name": "stdout",
     "output_type": "stream",
     "text": [
      "[09:05:38] WARNING: C:/Users/Administrator/workspace/xgboost-win64_release_1.4.0/src/learner.cc:1095: Starting in XGBoost 1.3.0, the default evaluation metric used with the objective 'multi:softprob' was changed from 'merror' to 'mlogloss'. Explicitly set eval_metric if you'd like to restore the old behavior.\n"
     ]
    },
    {
     "data": {
      "text/plain": [
       "XGBClassifier(base_score=0.5, booster='gbtree', colsample_bylevel=1,\n",
       "              colsample_bynode=1, colsample_bytree=1, gamma=0, gpu_id=-1,\n",
       "              importance_type='gain', interaction_constraints='',\n",
       "              learning_rate=0.300000012, max_delta_step=0, max_depth=6,\n",
       "              min_child_weight=1, missing=nan, monotone_constraints='()',\n",
       "              n_estimators=100, n_jobs=8, num_parallel_tree=1,\n",
       "              objective='multi:softprob', random_state=0, reg_alpha=0,\n",
       "              reg_lambda=1, scale_pos_weight=None, subsample=1,\n",
       "              tree_method='exact', validate_parameters=1, verbosity=None)"
      ]
     },
     "execution_count": 260,
     "metadata": {},
     "output_type": "execute_result"
    }
   ],
   "source": [
    "# Train an XGBoost model\n",
    "xgb_model = xgb.XGBClassifier()\n",
    "xgb_model.fit(X_train_XGB, y_train_XGB)"
   ]
  },
  {
   "cell_type": "code",
   "execution_count": 261,
   "metadata": {},
   "outputs": [],
   "source": [
    "# Make predictions\n",
    "xgb_predictions = xgb_model.predict(X_test_XGB)"
   ]
  },
  {
   "cell_type": "code",
   "execution_count": 262,
   "metadata": {},
   "outputs": [],
   "source": [
    "# Decode the predictions back to original labels\n",
    "xgb_predictions_decoded = label_encoder.inverse_transform(xgb_predictions)"
   ]
  },
  {
   "cell_type": "code",
   "execution_count": 264,
   "metadata": {},
   "outputs": [
    {
     "name": "stdout",
     "output_type": "stream",
     "text": [
      "XGBoost Accuracy: 0.7313432835820896\n"
     ]
    }
   ],
   "source": [
    "# Calculate accuracy scores\n",
    "xgb_accuracy = accuracy_score(y_test_XGB, xgb_predictions)\n",
    "print(f'XGBoost Accuracy: {xgb_accuracy}')"
   ]
  },
  {
   "cell_type": "code",
   "execution_count": 282,
   "metadata": {},
   "outputs": [
    {
     "data": {
      "text/plain": [
       "array([7.1019602e-01, 1.0166485e-04, 7.1777515e-03, 3.5381636e-03,\n",
       "       1.8136176e-01, 3.4984879e-03, 2.8448252e-03, 2.0324417e-04,\n",
       "       1.1887125e-03, 5.8543351e-02, 4.4780897e-04, 6.4935006e-02,\n",
       "       3.1244985e-04, 1.7945523e-03, 5.6190579e-04, 5.0684478e-04,\n",
       "       2.9206480e-04, 2.7685304e-04, 4.0529476e-04, 1.5155153e-03,\n",
       "       1.3066878e-03, 2.6038397e-04, 9.5953111e-04, 2.3678724e-01,\n",
       "       9.4257474e-01, 1.9734947e-04, 5.1357285e-03, 1.0067774e-03,\n",
       "       9.1714336e-04, 8.9904014e-03, 5.5433944e-04, 2.6110010e-02,\n",
       "       3.5971072e-01, 1.2174237e-03, 5.7720337e-03, 1.4776360e-03,\n",
       "       1.0702189e-03, 4.8784753e-03, 6.3027218e-02, 1.7875786e-01,\n",
       "       3.1758424e-02, 4.3633617e-03, 5.1042665e-04, 2.9268991e-02,\n",
       "       1.1040721e-02, 5.0041103e-01, 1.2311463e-03, 1.9018742e-04,\n",
       "       4.9017707e-01, 3.7015940e-03, 1.7588595e-03, 7.4069540e-05,\n",
       "       1.8906742e-03, 6.0655773e-05, 1.0661612e-02, 6.4243026e-02,\n",
       "       8.7995571e-04, 2.3829358e-04, 6.3587070e-01, 4.2943472e-01,\n",
       "       1.2331586e-02, 2.4337338e-03, 1.2705225e-03, 1.2825646e-02,\n",
       "       1.2770723e-04, 2.3159250e-03, 1.1510292e-01], dtype=float32)"
      ]
     },
     "execution_count": 282,
     "metadata": {},
     "output_type": "execute_result"
    }
   ],
   "source": [
    "y_pred_prob_XGB"
   ]
  },
  {
   "cell_type": "markdown",
   "metadata": {},
   "source": [
    "## Using LightGBM model"
   ]
  },
  {
   "cell_type": "code",
   "execution_count": 266,
   "metadata": {},
   "outputs": [
    {
     "data": {
      "text/plain": [
       "LGBMClassifier()"
      ]
     },
     "execution_count": 266,
     "metadata": {},
     "output_type": "execute_result"
    }
   ],
   "source": [
    "# Train a LightGBM model\n",
    "lgb_model = lgb.LGBMClassifier()\n",
    "lgb_model.fit(X_train_XGB, y_train)"
   ]
  },
  {
   "cell_type": "code",
   "execution_count": 269,
   "metadata": {},
   "outputs": [
    {
     "name": "stdout",
     "output_type": "stream",
     "text": [
      "LightGBM Accuracy: 0.7164179104477612\n"
     ]
    }
   ],
   "source": [
    "# Make predictions\n",
    "lgb_predictions = lgb_model.predict(X_test_XGB)\n",
    "\n",
    "# Decode the predictions back to original labels\n",
    "lgb_predictions_decoded = label_encoder.inverse_transform(lgb_predictions)\n",
    "\n",
    "# Calculate accuracy scores\n",
    "lgb_accuracy = accuracy_score(y_test_XGB, lgb_predictions)\n",
    "print(f'LightGBM Accuracy: {lgb_accuracy}')"
   ]
  },
  {
   "cell_type": "markdown",
   "metadata": {},
   "source": [
    "## Improve the Model"
   ]
  },
  {
   "cell_type": "markdown",
   "metadata": {},
   "source": [
    "To use K-Fold cross-validation to build an optimal XGBoost model, you need to perform hyperparameter tuning during the cross-validation process. "
   ]
  },
  {
   "cell_type": "markdown",
   "metadata": {},
   "source": [
    "## 1. Find the best model"
   ]
  },
  {
   "cell_type": "code",
   "execution_count": 290,
   "metadata": {},
   "outputs": [
    {
     "name": "stdout",
     "output_type": "stream",
     "text": [
      "Best Model MSE: 0.6653898459360889\n"
     ]
    }
   ],
   "source": [
    "import pandas as pd\n",
    "import numpy as np\n",
    "import xgboost as xgb\n",
    "from sklearn.model_selection import KFold, GridSearchCV\n",
    "from sklearn.metrics import mean_squared_error\n",
    "\n",
    "#  Step 2: Encode the 'condition' column with numerical labels\n",
    "label_encoder = LabelEncoder()\n",
    "day_weather['condition_encoded'] = label_encoder.fit_transform(day_weather['condition'])\n",
    "\n",
    "# Step 3: Define your features and target\n",
    "X = day_weather.drop(['condition','condition_encoded','date'], axis=1)\n",
    "y = day_weather['condition_encoded']\n",
    "\n",
    "# Define the hyperparameters grid for XGBoost.\n",
    "\n",
    "param_grid = {'n_estimators': [100, 200, 300],\n",
    "              'max_depth': [3, 4, 5],\n",
    "             'learning_rate': [0.05, 0.1, 0.2]\n",
    "             }\n",
    "\n",
    "# Create a K-Fold cross-validation iterator\n",
    "num_folds = 5  # Number of cross-validation folds\n",
    "kf = KFold(n_splits=num_folds, shuffle=True, random_state=42)\n",
    "\n",
    "# Initialize a GridSearchCV object to perform hyperparameter tuning within each fold\n",
    "xgb_model = xgb.XGBRegressor()\n",
    "grid_search = GridSearchCV(xgb_model, param_grid, cv=kf, scoring='neg_mean_squared_error')\n",
    "\n",
    "# Iteration through the folds, perform hyperparameter tuning, and train XGBoost models with optimal hyperparameters\n",
    "\n",
    "best_models = []  # Store the best models for each fold\n",
    "\n",
    "for train_index, test_index in kf.split(X):\n",
    "    X_train, X_test = X.iloc[train_index], X.iloc[test_index]\n",
    "    y_train, y_test = y.iloc[train_index], y.iloc[test_index]\n",
    "\n",
    "    # Perform hyperparameter tuning using GridSearchCV\n",
    "    grid_search.fit(X_train, y_train)\n",
    "\n",
    "    # Get the best model with optimal hyperparameters\n",
    "    best_model = grid_search.best_estimator_\n",
    "    best_models.append(best_model)\n",
    "\n",
    "    # Train the best model on the full training data\n",
    "    best_model.fit(X_train, y_train)\n",
    "    \n",
    "# Evaluate the performance of optimal models and select the best one\n",
    "best_mse = np.inf\n",
    "best_model = None\n",
    "\n",
    "for model in best_models:\n",
    "    y_pred = model.predict(X_test)\n",
    "    mse = mean_squared_error(y_test, y_pred)\n",
    "    if mse < best_mse:\n",
    "        best_mse = mse\n",
    "        best_model = model\n",
    "\n",
    "print(\"Best Model MSE:\", best_mse)"
   ]
  },
  {
   "cell_type": "markdown",
   "metadata": {},
   "source": [
    "Now we have a trained XGBoost model with optimal hyperparameters selected through K-Fold cross-validation. This model should provide improved performance compared to using default hyperparameters."
   ]
  },
  {
   "cell_type": "markdown",
   "metadata": {},
   "source": [
    "## 2. Calculate the accuracy"
   ]
  },
  {
   "cell_type": "code",
   "execution_count": 294,
   "metadata": {},
   "outputs": [
    {
     "name": "stdout",
     "output_type": "stream",
     "text": [
      "Accuracy: 0.8756272893734554\n"
     ]
    }
   ],
   "source": [
    "# Calculate the mean of the true target values (y)\n",
    "y_mean = y.mean()\n",
    "\n",
    "# Calculate the variance of the true target values (y)\n",
    "variance_y = ((y - y_mean) ** 2).mean()\n",
    "\n",
    "# Calculate the accuracy\n",
    "accuracy = 1 - best_mse / variance_y\n",
    "\n",
    "print(\"Accuracy:\", accuracy)"
   ]
  },
  {
   "cell_type": "markdown",
   "metadata": {},
   "source": [
    "The best model with optimal hyperparameters selected throuh K-Fold cross-validation show the better accuracy and better MSE"
   ]
  },
  {
   "cell_type": "markdown",
   "metadata": {},
   "source": [
    "## 3. Estimatie the next 30 days"
   ]
  }
 ],
 "metadata": {
  "kernelspec": {
   "display_name": "Python 3",
   "language": "python",
   "name": "python3"
  },
  "language_info": {
   "codemirror_mode": {
    "name": "ipython",
    "version": 3
   },
   "file_extension": ".py",
   "mimetype": "text/x-python",
   "name": "python",
   "nbconvert_exporter": "python",
   "pygments_lexer": "ipython3",
   "version": "3.8.5"
  }
 },
 "nbformat": 4,
 "nbformat_minor": 4
}
